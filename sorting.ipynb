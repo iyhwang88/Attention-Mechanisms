{
 "cells": [
  {
   "cell_type": "markdown",
   "metadata": {},
   "source": [
    "# Applying Seq2Seq Model with Attention in Sorting Problems\n",
    "\n",
    "---\n"
   ]
  },
  {
   "cell_type": "code",
   "execution_count": null,
   "metadata": {
    "collapsed": true
   },
   "outputs": [],
   "source": [
    "%matplotlib inline\n",
    "import numpy as np\n",
    "import matplotlib.pyplot as plt\n",
    "\n",
    "import torch\n",
    "import torch.nn as nn\n",
    "from torch.autograd import Variable\n",
    "from torch import optim\n",
    "import torch.nn.functional as F\n",
    "\n",
    "use_cuda = torch.cuda.is_available()\n",
    "print(use_cuda)"
   ]
  },
  {
   "cell_type": "markdown",
   "metadata": {},
   "source": [
    "## Generate Data"
   ]
  },
  {
   "cell_type": "code",
   "execution_count": null,
   "metadata": {
    "collapsed": true
   },
   "outputs": [],
   "source": [
    "def next_batch(batch_size, seq_len, input_size=10):\n",
    "    data = torch.LongTensor(batch_size, seq_len).random_() % input_size\n",
    "    labels = torch.sort(data, 1)[0].view(batch_size, seq_len)\n",
    "    \n",
    "    #data_onehot = torch.zeros(batch_size, seq_len, input_size)\n",
    "    #data_onehot.scatter_(2, data, 1)\n",
    "    \n",
    "    data = Variable(data)\n",
    "    labels = Variable(labels)\n",
    "    \n",
    "    if use_cuda:\n",
    "        data = data.cuda()\n",
    "        labels = labels.cuda()\n",
    "        \n",
    "    return data, labels"
   ]
  },
  {
   "cell_type": "markdown",
   "metadata": {},
   "source": [
    "## The Seq2Seq Model"
   ]
  },
  {
   "cell_type": "code",
   "execution_count": null,
   "metadata": {
    "collapsed": true
   },
   "outputs": [],
   "source": [
    "class EncoderRNN(nn.Module):\n",
    "    def __init__(self, input_size, hidden_size):\n",
    "        super(EncoderRNN, self).__init__()\n",
    "        self.hidden_size = hidden_size\n",
    "        \n",
    "        self.embedding = nn.Embedding(input_size, hidden_size)\n",
    "        self.gru = nn.GRU(hidden_size, hidden_size, batch_first=True)\n",
    "        \n",
    "    def forward(self, input, hidden):\n",
    "        embedded = self.embedding(input)\n",
    "        output = embedded.view(-1,1,self.hidden_size)\n",
    "        output, hidden = self.gru(output, hidden)\n",
    "        \n",
    "        return output, hidden\n",
    "\n",
    "    \n",
    "    def init_hidden(self, batch_size):\n",
    "        result = Variable(torch.zeros(1, batch_size, self.hidden_size))\n",
    "        if use_cuda:\n",
    "            return result.cuda()\n",
    "        else:\n",
    "            return result"
   ]
  },
  {
   "cell_type": "code",
   "execution_count": null,
   "metadata": {
    "collapsed": true
   },
   "outputs": [],
   "source": [
    "class AttnDecoderRNN(nn.Module):\n",
    "    def __init__(self, hidden_size, output_size, num_layers=1):\n",
    "        super(AttnDecoderRNN, self).__init__()\n",
    "        self.hidden_size = hidden_size\n",
    "        \n",
    "        self.embedding = nn.Embedding(output_size, hidden_size)\n",
    "        self.gru = nn.GRU(hidden_size * 2, hidden_size, batch_first=True)\n",
    "        \n",
    "        # Attention Mechanism\n",
    "        self.get_keys = nn.Linear(hidden_size, hidden_size) # memory layer\n",
    "        self.attn = nn.Linear(hidden_size * 2, hidden_size)\n",
    "        self.attn_combine = Variable(torch.randn(hidden_size, 1), requires_grad=True)\n",
    "        if use_cuda:\n",
    "            self.attn_combine = self.attn_combine.cuda()\n",
    "    \n",
    "        self.fc = nn.Linear(hidden_size, output_size)\n",
    "        \n",
    "        \n",
    "    def forward(self, input, hidden, enc_outs):\n",
    "        # Set initial states\n",
    "        #x = x.transpose(0,1) # (batch_size, seq_len, input_size) -> (seq_len, batch_size, input_size)\n",
    "        batch_size, seq_len = enc_outs.data.size()[:2]\n",
    "        \n",
    "        s = hidden # hidden state of RNN\n",
    "            \n",
    "        attn_weights = []\n",
    "        # Attention Mechanism\n",
    "        for j in range(seq_len):\n",
    "            a = F.tanh(self.attn(torch.cat((self.get_keys(enc_outs[:,j]), s[0]), 1)))\n",
    "            a = torch.mm(a, self.attn_combine)\n",
    "            attn_weights.append(a)\n",
    "            \n",
    "        attn_weights = torch.cat(attn_weights, 1)\n",
    "        attn_weights = F.softmax(attn_weights)\n",
    "        \n",
    "        # Input of RNN\n",
    "        embedded = self.embedding(input)\n",
    "        c = torch.bmm(attn_weights.view(batch_size,1,-1), enc_outs)\n",
    "        comb = torch.cat((c[:,0], embedded), 1)\n",
    "        output, hidden = self.gru(comb.view(batch_size,1,-1), s)\n",
    "        output = self.fc(output.view(batch_size, -1)).view(batch_size, 1, -1)\n",
    "        \n",
    "        return output, hidden, attn_weights\n",
    "\n",
    "    "
   ]
  },
  {
   "cell_type": "code",
   "execution_count": null,
   "metadata": {
    "collapsed": true
   },
   "outputs": [],
   "source": [
    "input_size = 30\n",
    "hidden_size = 10"
   ]
  },
  {
   "cell_type": "code",
   "execution_count": null,
   "metadata": {
    "collapsed": true
   },
   "outputs": [],
   "source": [
    "encoder = EncoderRNN(input_size, hidden_size)\n",
    "if use_cuda:\n",
    "    encoder = encoder.cuda()"
   ]
  },
  {
   "cell_type": "code",
   "execution_count": null,
   "metadata": {
    "collapsed": true
   },
   "outputs": [],
   "source": [
    "decoder = AttnDecoderRNN(hidden_size, input_size)\n",
    "if use_cuda:\n",
    "    decoder = decoder.cuda()"
   ]
  },
  {
   "cell_type": "code",
   "execution_count": null,
   "metadata": {
    "collapsed": true
   },
   "outputs": [],
   "source": [
    "batch_size = 128\n",
    "\n",
    "for cnt in range(6000):\n",
    "    if cnt==0:\n",
    "        learning_rate = 1.\n",
    "        encoder_optimizer = optim.SGD(encoder.parameters(), lr=learning_rate)\n",
    "        decoder_optimizer = optim.SGD(decoder.parameters(), lr=learning_rate)\n",
    "        criterion = nn.CrossEntropyLoss()\n",
    "    elif cnt==3000:\n",
    "        learning_rate = .5\n",
    "        encoder_optimizer = optim.SGD(encoder.parameters(), lr=learning_rate)\n",
    "        decoder_optimizer = optim.SGD(decoder.parameters(), lr=learning_rate)\n",
    "        criterion = nn.CrossEntropyLoss()\n",
    "    elif cnt==4000:\n",
    "        learning_rate = .25\n",
    "        encoder_optimizer = optim.SGD(encoder.parameters(), lr=learning_rate)\n",
    "        decoder_optimizer = optim.SGD(decoder.parameters(), lr=learning_rate)\n",
    "        criterion = nn.CrossEntropyLoss()\n",
    "    elif cnt==5000:\n",
    "        learning_rate = .125\n",
    "        encoder_optimizer = optim.SGD(encoder.parameters(), lr=learning_rate)\n",
    "        decoder_optimizer = optim.SGD(decoder.parameters(), lr=learning_rate)\n",
    "        criterion = nn.CrossEntropyLoss()\n",
    "    encoder.zero_grad()\n",
    "    decoder.zero_grad()\n",
    "    \n",
    "    if np.random.rand() > 0.5:\n",
    "        seq_len = 10\n",
    "    else:\n",
    "        seq_len = 20\n",
    "    x, y = next_batch(batch_size, seq_len, input_size)\n",
    "    \n",
    "    h = encoder.init_hidden(batch_size)\n",
    "    enc_outs = []\n",
    "    for i in range(seq_len):\n",
    "        enc_out, h = encoder(x[:,i], h)\n",
    "        enc_outs.append(enc_out)\n",
    "    enc_outs = torch.cat(enc_outs, 1)\n",
    "    \n",
    "    # make dec_in\n",
    "    dummies = torch.LongTensor(batch_size, 1).zero_()\n",
    "    if use_cuda:\n",
    "        dummies = dummies.cuda()\n",
    "        \n",
    "    dec_in = torch.cat([dummies, y[:,:-1].data], 1)\n",
    "    dec_in = Variable(dec_in)\n",
    "    if use_cuda:\n",
    "        dec_in = dec_in.cuda()\n",
    "        \n",
    "    dec_outs = []\n",
    "    for i in range(seq_len):\n",
    "        dec_out, h, _ = decoder(dec_in[:, i], h, enc_outs)\n",
    "        dec_outs.append(dec_out)\n",
    "    dec_outs = torch.cat(dec_outs, 1)\n",
    "\n",
    "    loss = 0\n",
    "    for i in range(seq_len):\n",
    "        loss += criterion(dec_outs[:,i], y[:,i])\n",
    "    print(cnt, loss.data.cpu().numpy(), end='\\r')\n",
    "    loss.backward()\n",
    "    \n",
    "    nn.utils.clip_grad_norm(encoder.parameters(), 1)\n",
    "    nn.utils.clip_grad_norm(decoder.parameters(), 1)\n",
    "    for p in encoder.parameters():\n",
    "        p.data.add_(-learning_rate, p.grad.data)\n",
    "    for p in decoder.parameters():\n",
    "        p.data.add_(-learning_rate, p.grad.data)"
   ]
  },
  {
   "cell_type": "code",
   "execution_count": 63,
   "metadata": {
    "collapsed": false,
    "scrolled": false
   },
   "outputs": [
    {
     "data": {
      "text/plain": [
       "<matplotlib.image.AxesImage at 0x7ff251712780>"
      ]
     },
     "execution_count": 63,
     "metadata": {},
     "output_type": "execute_result"
    },
    {
     "data": {
      "image/png": "[encoded data removed]",
      "text/plain": [
       "<matplotlib.figure.Figure at 0x7ff251636e80>"
      ]
     },
     "metadata": {},
     "output_type": "display_data"
    },
    {
     "data": {
      "image/png": "[encoded data removed]",
      "text/plain": [
       "<matplotlib.figure.Figure at 0x7ff251e972e8>"
      ]
     },
     "metadata": {},
     "output_type": "display_data"
    }
   ],
   "source": [
    "batch_size = 4\n",
    "seq_len = 15\n",
    "\n",
    "x, y = next_batch(batch_size, seq_len, input_size)\n",
    "\n",
    "\n",
    "h = encoder.init_hidden(batch_size)\n",
    "enc_outs = []\n",
    "for i in range(seq_len):\n",
    "    enc_out, h = encoder(x[:,i], h)\n",
    "    enc_outs.append(enc_out)\n",
    "enc_outs = torch.cat(enc_outs, 1)\n",
    "\n",
    "dec_in = torch.LongTensor(batch_size).zero_()\n",
    "dec_in = Variable(dec_in)\n",
    "if use_cuda:\n",
    "    dec_in = dec_in.cuda()\n",
    "\n",
    "dec_outs = []\n",
    "attns = []\n",
    "for i in range(seq_len):\n",
    "    dec_out, h, attn = decoder(dec_in, h, enc_outs)\n",
    "    dec_in = Variable(dec_out.data.topk(1)[1]).view(batch_size)\n",
    "    if use_cuda:\n",
    "        dec_in = dec_in.cuda()\n",
    "    dec_outs.append(dec_out)\n",
    "    attns.append(attn.view(batch_size, 1, -1))\n",
    "    \n",
    "dec_outs = torch.cat(dec_outs, 1)\n",
    "attns = torch.cat(attns, 1)\n",
    "    \n",
    "plt.plot(np.argmax(dec_outs.data[0].cpu().numpy(), 1))\n",
    "plt.plot(y.data[0].cpu().numpy())\n",
    "_, (ax1, ax2) = plt.subplots(1, 2)\n",
    "ax1.matshow(attns.data[0].cpu().numpy(), cmap='bone')\n",
    "d = x.data[0].cpu().numpy()\n",
    "ax2.matshow(np.eye(len(d))[np.argsort(d)], cmap='bone')"
   ]
  }
 ],
 "metadata": {
  "kernelspec": {
   "display_name": "Python 3",
   "language": "python",
   "name": "python3"
  },
  "language_info": {
   "codemirror_mode": {
    "name": "ipython",
    "version": 3
   },
   "file_extension": ".py",
   "mimetype": "text/x-python",
   "name": "python",
   "nbconvert_exporter": "python",
   "pygments_lexer": "ipython3",
   "version": "3.6.0"
  }
 },
 "nbformat": 4,
 "nbformat_minor": 2
}
